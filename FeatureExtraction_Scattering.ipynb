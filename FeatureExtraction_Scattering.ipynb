{
 "cells": [
  {
   "cell_type": "markdown",
   "metadata": {},
   "source": [
    "## Mini Project"
   ]
  },
  {
   "cell_type": "code",
   "execution_count": 1,
   "metadata": {},
   "outputs": [],
   "source": [
    "import torch\n",
    "import time\n",
    "import numpy as np"
   ]
  },
  {
   "cell_type": "markdown",
   "metadata": {},
   "source": [
    "### Load Dataset - MNIST"
   ]
  },
  {
   "cell_type": "code",
   "execution_count": null,
   "metadata": {},
   "outputs": [],
   "source": [
    "import torchvision\n",
    "import torchvision.transforms as transforms"
   ]
  },
  {
   "cell_type": "code",
   "execution_count": null,
   "metadata": {},
   "outputs": [],
   "source": [
    "batch_size=100\n",
    "\n",
    "transform = transforms.Compose([\n",
    "transforms.ToTensor(), transforms.Normalize([0.5], [0.5])])\n",
    "\n",
    "trainset = torchvision.datasets.MNIST(root='./data', train=True, download=True, transform=transform)\n",
    "trainloader = torch.utils.data.DataLoader(trainset, batch_size=batch_size, shuffle=True, num_workers=2)\n",
    "\n",
    "testset = torchvision.datasets.MNIST(root='./data', train=False, download=True, transform=transform)\n",
    "testloader = torch.utils.data.DataLoader(testset, batch_size=batch_size, shuffle=False, num_workers=2)"
   ]
  },
  {
   "cell_type": "code",
   "execution_count": null,
   "metadata": {},
   "outputs": [],
   "source": [
    "len(trainset),len(testset)"
   ]
  },
  {
   "cell_type": "code",
   "execution_count": null,
   "metadata": {},
   "outputs": [],
   "source": [
    "import matplotlib.pyplot as plt\n",
    "\n",
    "dataiter = iter(trainloader)\n",
    "images, labels = dataiter.next()\n",
    "images = images[:100,:,:,:]\n",
    "images = images / 2 + 0.5\n",
    "plt.figure(figsize=(10,10),dpi=100)\n",
    "plt.imshow(np.transpose(torchvision.utils.make_grid(images,nrow=10).numpy(),(1,2,0)))\n",
    "plt.axis('off')\n",
    "plt.show()"
   ]
  },
  {
   "cell_type": "code",
   "execution_count": null,
   "metadata": {},
   "outputs": [],
   "source": []
  },
  {
   "cell_type": "markdown",
   "metadata": {},
   "source": [
    "## Feature Extraction - scattering net"
   ]
  },
  {
   "cell_type": "markdown",
   "metadata": {},
   "source": [
    "### scattering net with known invariants"
   ]
  },
  {
   "cell_type": "code",
   "execution_count": null,
   "metadata": {},
   "outputs": [],
   "source": [
    "from kymatio import Scattering2D\n",
    "\n",
    "scattering = Scattering2D(J=2, shape=(28, 28), max_order=1)\n",
    "K = 17 # 1st order\n",
    "\n",
    "# scattering = Scattering2D(J=2, shape=(28, 28), max_order=2)\n",
    "# K = 81 # 2nd order\n",
    "\n",
    "scattering = scattering.cuda()"
   ]
  },
  {
   "cell_type": "code",
   "execution_count": null,
   "metadata": {},
   "outputs": [],
   "source": [
    "Sdata = np.zeros((len(trainset),833)) # 17*7*7\n",
    "# Sdata = np.zeros((len(trainset),3969)) # 81*7*7\n",
    "\n",
    "Slabel = np.zeros((len(trainset),1))\n",
    "Sdata.shape, Slabel.shape"
   ]
  },
  {
   "cell_type": "code",
   "execution_count": null,
   "metadata": {},
   "outputs": [],
   "source": [
    "start = time.time()\n",
    "\n",
    "for batch_idx, (data, target) in enumerate(trainloader):\n",
    "    print(batch_idx,end=',')\n",
    "    data = data.to('cuda')\n",
    "    sdata = scattering(data)\n",
    "    Sdata[batch_size*batch_idx:(batch_idx+1)*batch_size,:] = sdata.to('cpu').numpy().reshape(batch_size,-1)\n",
    "    Slabel[batch_size*batch_idx:(batch_idx+1)*batch_size,:] = target.numpy().reshape(batch_size,-1)\n",
    "    \n",
    "end = time.time()\n",
    "end - start"
   ]
  },
  {
   "cell_type": "code",
   "execution_count": null,
   "metadata": {},
   "outputs": [],
   "source": [
    "test = scattering(data).to('cpu').numpy()[0]"
   ]
  },
  {
   "cell_type": "code",
   "execution_count": null,
   "metadata": {},
   "outputs": [],
   "source": [
    "test.shape"
   ]
  },
  {
   "cell_type": "code",
   "execution_count": null,
   "metadata": {},
   "outputs": [],
   "source": [
    "plt.figure(figsize=(16,2.5))\n",
    "plt.subplot(161)\n",
    "plt.imshow(test[0,0,:,:])\n",
    "plt.axis('off')\n",
    "plt.subplot(162)\n",
    "plt.imshow(test[0,3,:,:])\n",
    "plt.axis('off')\n",
    "plt.subplot(163)\n",
    "plt.imshow(test[0,6,:,:])\n",
    "plt.axis('off')\n",
    "plt.subplot(164)\n",
    "plt.imshow(test[0,9,:,:])\n",
    "plt.axis('off')\n",
    "plt.subplot(165)\n",
    "plt.imshow(test[0,12,:,:])\n",
    "plt.axis('off')\n",
    "plt.subplot(166)\n",
    "plt.imshow(test[0,15,:,:])\n",
    "plt.axis('off')\n",
    "plt.show()"
   ]
  },
  {
   "cell_type": "markdown",
   "metadata": {},
   "source": [
    "## Visualize"
   ]
  },
  {
   "cell_type": "code",
   "execution_count": null,
   "metadata": {},
   "outputs": [],
   "source": [
    "import pandas as pd\n",
    "import seaborn as sns\n",
    "import matplotlib.style as style \n",
    "import matplotlib.pyplot as plt\n",
    "import matplotlib"
   ]
  },
  {
   "cell_type": "code",
   "execution_count": null,
   "metadata": {},
   "outputs": [],
   "source": [
    "from sklearn.decomposition import PCA\n",
    "from sklearn.manifold import TSNE"
   ]
  },
  {
   "cell_type": "markdown",
   "metadata": {},
   "source": [
    "### PCA of scattering net"
   ]
  },
  {
   "cell_type": "code",
   "execution_count": null,
   "metadata": {},
   "outputs": [],
   "source": [
    "start = time.time()\n",
    "\n",
    "Sdata_pca_embedded = PCA(n_components=2).fit_transform(Sdata)  \n",
    "Sdata_pca_embedded.shape\n",
    "\n",
    "end = time.time()\n",
    "end - start"
   ]
  },
  {
   "cell_type": "code",
   "execution_count": null,
   "metadata": {
    "scrolled": true
   },
   "outputs": [],
   "source": [
    "Sdata_pca_embedded_df = pd.DataFrame(Sdata_pca_embedded,index=Slabel)\n",
    "Sdata_pca_embedded_df = Sdata_pca_embedded_df.reset_index()\n",
    "Sdata_pca_embedded_df['index'] = Sdata_pca_embedded_df['index'].astype(int)\n",
    "Sdata_pca_embedded_df_plot = Sdata_pca_embedded_df.loc[range(5000),:]\n",
    "Sdata_pca_embedded_df_plot.columns = ['Label','PCA Dim1', 'PCA Dim2']\n",
    "plt.figure(figsize=(10,10),dpi=120)\n",
    "ax = sns.scatterplot(x='PCA Dim1', y='PCA Dim2',hue='Label',data=Sdata_pca_embedded_df_plot,\n",
    "                     palette='Set1',alpha=0.6,s=20,legend='full') # tab10  Set1  husl \n",
    "legend = plt.legend(bbox_to_anchor=(1, 0.6))\n",
    "plt.show()"
   ]
  },
  {
   "cell_type": "markdown",
   "metadata": {},
   "source": [
    "### tSNE of scattering net\n",
    "t-SNE(t-distributed stochastic neighbor embedding)"
   ]
  },
  {
   "cell_type": "code",
   "execution_count": null,
   "metadata": {},
   "outputs": [],
   "source": [
    "Sdata.shape"
   ]
  },
  {
   "cell_type": "code",
   "execution_count": null,
   "metadata": {},
   "outputs": [],
   "source": [
    "start = time.time()\n",
    "\n",
    "Sdata_tsne_embedded = TSNE(n_components=2).fit_transform(Sdata)\n",
    "# Sdata_tsne_embedded.shape\n",
    "\n",
    "end = time.time()\n",
    "end - start"
   ]
  },
  {
   "cell_type": "code",
   "execution_count": null,
   "metadata": {},
   "outputs": [],
   "source": [
    "Sdata_tsne_embedded_df = pd.DataFrame(Sdata_tsne_embedded,index=Slabel)\n",
    "Sdata_tsne_embedded_df = Sdata_tsne_embedded_df.reset_index()\n",
    "Sdata_tsne_embedded_df['index'] = Sdata_tsne_embedded_df['index'].astype(int)\n",
    "Sdata_tsne_embedded_df_plot = Sdata_tsne_embedded_df.loc[range(5000),:]\n",
    "Sdata_tsne_embedded_df_plot.columns = ['Label','tSNE Dim1', 'tSNE Dim2']\n",
    "plt.figure(figsize=(10,10),dpi=120)\n",
    "ax = sns.scatterplot(x='tSNE Dim1', y='tSNE Dim2',hue='Label',data=Sdata_tsne_embedded_df_plot,\n",
    "                     palette='tab10',alpha=0.6,s=20,legend='full')\n",
    "legend = plt.legend(bbox_to_anchor=(1.001, 0.7),facecolor='white',edgecolor='white')\n",
    "plt.show()"
   ]
  },
  {
   "cell_type": "markdown",
   "metadata": {},
   "source": [
    "### Classifications based on features extracted by scattering net"
   ]
  },
  {
   "cell_type": "code",
   "execution_count": null,
   "metadata": {},
   "outputs": [],
   "source": [
    "from sklearn.model_selection import cross_validate"
   ]
  },
  {
   "cell_type": "code",
   "execution_count": null,
   "metadata": {},
   "outputs": [],
   "source": [
    "from sklearn.discriminant_analysis import LinearDiscriminantAnalysis\n",
    "\n",
    "start = time.time()\n",
    "\n",
    "lda = LinearDiscriminantAnalysis()\n",
    "# (3.6621105670928955, array([0.97090582, 0.9729973 , 0.97089709]))\n",
    "\n",
    "lda_results = cross_validate(lda, Sdata[:10000], Slabel[:10000], cv=3, scoring='accuracy')\n",
    "lda_results = lda_results['test_score']\n",
    "\n",
    "end = time.time()\n",
    "end - start, lda_results"
   ]
  },
  {
   "cell_type": "code",
   "execution_count": null,
   "metadata": {},
   "outputs": [],
   "source": [
    "from sklearn.linear_model import LogisticRegression\n",
    "\n",
    "start = time.time()\n",
    "\n",
    "logistic_regression = LogisticRegression(random_state=0, solver='lbfgs', multi_class='multinomial')\n",
    "# (3.1544511318206787, array([0.97810438, 0.97209721, 0.969997  ]))\n",
    "# logistic_regression = LogisticRegression(penalty = 'elasticnet',l1_ratio = 0.15,random_state=0, solver='saga')\n",
    "# (190.6933810710907, array([0.9790042 , 0.969997  , 0.96879688]))\n",
    "\n",
    "logistic_regression_results = cross_validate(logistic_regression, Sdata[:10000], Slabel[:10000], cv=3, scoring='accuracy')\n",
    "logistic_regression_results = logistic_regression_results['test_score']\n",
    "\n",
    "end = time.time()\n",
    "end - start, logistic_regression_results"
   ]
  },
  {
   "cell_type": "code",
   "execution_count": null,
   "metadata": {},
   "outputs": [],
   "source": [
    "from sklearn import svm\n",
    "\n",
    "start = time.time()\n",
    "\n",
    "linear_svc = svm.LinearSVC()\n",
    "# (24.275047779083252, array([0.98530294, 0.98259826, 0.9789979 ]))\n",
    "# linear_svc = svm.LinearSVC(random_state=0, tol=1e-5)\n",
    "# (25.60028052330017, array([0.98530294, 0.98259826, 0.9789979 ]))\n",
    "\n",
    "svm_results = cross_validate(linear_svc, Sdata[:10000], Slabel[:10000], cv=3, scoring='accuracy')\n",
    "svm_results = svm_results['test_score']\n",
    "\n",
    "end = time.time()\n",
    "end - start, svm_results"
   ]
  },
  {
   "cell_type": "code",
   "execution_count": null,
   "metadata": {},
   "outputs": [],
   "source": [
    "from sklearn.ensemble import RandomForestClassifier\n",
    "\n",
    "start = time.time()\n",
    "\n",
    "random_forest = RandomForestClassifier(n_estimators=10, max_depth=None, min_samples_split=2, random_state=0)\n",
    "# (3.6762218475341797, array([0.93041392, 0.92859286, 0.93249325]))\n",
    "# random_forest = RandomForestClassifier(n_estimators=100, max_depth=5, min_samples_split=2, random_state=2)\n",
    "# (17.511837482452393, array([0.89472106, 0.88178818, 0.89888989]))\n",
    "\n",
    "random_forest_results = cross_validate(random_forest, Sdata[:10000], Slabel[:10000], cv=3, scoring='accuracy')\n",
    "random_forest_results = random_forest_results['test_score']\n",
    "\n",
    "end = time.time()\n",
    "end - start, random_forest_results"
   ]
  },
  {
   "cell_type": "code",
   "execution_count": null,
   "metadata": {},
   "outputs": [],
   "source": [
    "lda_results,logistic_regression_results,svm_results,random_forest_results"
   ]
  },
  {
   "cell_type": "code",
   "execution_count": null,
   "metadata": {},
   "outputs": [],
   "source": [
    "lda_results.mean(),logistic_regression_results.mean(),svm_results.mean(),random_forest_results.mean()"
   ]
  },
  {
   "cell_type": "code",
   "execution_count": null,
   "metadata": {},
   "outputs": [],
   "source": [
    "lda_results.std(),logistic_regression_results.std(),svm_results.std(),random_forest_results.std()"
   ]
  },
  {
   "cell_type": "code",
   "execution_count": null,
   "metadata": {},
   "outputs": [],
   "source": []
  }
 ],
 "metadata": {
  "kernelspec": {
   "display_name": "Python 3",
   "language": "python",
   "name": "python3"
  },
  "language_info": {
   "codemirror_mode": {
    "name": "ipython",
    "version": 3
   },
   "file_extension": ".py",
   "mimetype": "text/x-python",
   "name": "python",
   "nbconvert_exporter": "python",
   "pygments_lexer": "ipython3",
   "version": "3.7.6"
  }
 },
 "nbformat": 4,
 "nbformat_minor": 4
}
