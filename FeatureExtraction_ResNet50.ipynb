{
 "cells": [
  {
   "cell_type": "markdown",
   "metadata": {},
   "source": [
    "## Mini Project"
   ]
  },
  {
   "cell_type": "code",
   "execution_count": 1,
   "metadata": {},
   "outputs": [],
   "source": [
    "import torch\n",
    "import time\n",
    "import numpy as np"
   ]
  },
  {
   "cell_type": "markdown",
   "metadata": {},
   "source": [
    "## Feature Extraction - ResNet"
   ]
  },
  {
   "cell_type": "code",
   "execution_count": null,
   "metadata": {},
   "outputs": [],
   "source": [
    "from keras.datasets import mnist\n",
    "\n",
    "(x_train, y_train), (x_test, y_test) = mnist.load_data()"
   ]
  },
  {
   "cell_type": "code",
   "execution_count": null,
   "metadata": {},
   "outputs": [],
   "source": [
    "import numpy as np\n",
    "from numpy.random import RandomState\n",
    "\n",
    "prng = RandomState(42)\n",
    "num = 5000\n",
    "#Extract a subset of 5000 samples from MNIST training\n",
    "random_permute=prng.permutation(np.arange(0,60000))[0:num]"
   ]
  },
  {
   "cell_type": "code",
   "execution_count": null,
   "metadata": {},
   "outputs": [],
   "source": [
    "x = np.zeros((num, 28, 28))\n",
    "y = np.zeros(num)\n",
    "for i in range(x.shape[0]):\n",
    "  x[i] = x_train[random_permute[i]]\n",
    "  y[i] = y_train[random_permute[i]]"
   ]
  },
  {
   "cell_type": "code",
   "execution_count": null,
   "metadata": {},
   "outputs": [],
   "source": [
    "import cv2\n",
    "\n",
    "def change_size(x):\n",
    "  x_resize = np.zeros((x.shape[0], 224, 224))\n",
    "  for i in range(x.shape[0]):\n",
    "    x_resize[i] = cv2.resize(x[i], (224, 224))\n",
    "\n",
    "  x_channel = x_resize[:,:,:,np.newaxis]\n",
    "  x_final = np.concatenate( (x_channel,x_channel), axis=3 )\n",
    "  x_final = np.concatenate( (x_final,x_channel), axis=3 )\n",
    "  return x_final"
   ]
  },
  {
   "cell_type": "code",
   "execution_count": null,
   "metadata": {},
   "outputs": [],
   "source": [
    "from keras.models import Model\n",
    "from keras.applications.resnet50 import ResNet50\n",
    "from keras.applications.resnet50 import preprocess_input, decode_predictions\n",
    "\n",
    "x_input = change_size(x)\n",
    "x_input = preprocess_input(x_input)\n",
    "res50_base_model = ResNet50(weights='imagenet', include_top=True)\n",
    "res50_model = Model(inputs=res50_base_model.input, outputs=res50_base_model.get_layer('fc1000').input)"
   ]
  },
  {
   "cell_type": "code",
   "execution_count": null,
   "metadata": {},
   "outputs": [],
   "source": [
    "import time\n",
    "\n",
    "start = time.time()\n",
    "\n",
    "res50_feature = res50_model.predict(x_input)\n",
    "res50_label = y\n",
    "\n",
    "end = time.time()\n",
    "end - start"
   ]
  },
  {
   "cell_type": "code",
   "execution_count": null,
   "metadata": {},
   "outputs": [],
   "source": [
    "res50_feature.shape"
   ]
  },
  {
   "cell_type": "code",
   "execution_count": null,
   "metadata": {},
   "outputs": [],
   "source": []
  },
  {
   "cell_type": "markdown",
   "metadata": {},
   "source": [
    "### PCA of ResNet50"
   ]
  },
  {
   "cell_type": "code",
   "execution_count": null,
   "metadata": {},
   "outputs": [],
   "source": [
    "start = time.time()\n",
    "\n",
    "res50_pca_embedded = PCA(n_components=2).fit_transform(res50_feature)  \n",
    "res50_pca_embedded.shape\n",
    "\n",
    "end = time.time()\n",
    "end - start"
   ]
  },
  {
   "cell_type": "code",
   "execution_count": null,
   "metadata": {},
   "outputs": [],
   "source": [
    "res50_pca_embedded_df = pd.DataFrame(res50_pca_embedded,index=res50_label)\n",
    "res50_pca_embedded_df = res50_pca_embedded_df.reset_index()\n",
    "res50_pca_embedded_df['index'] = res50_pca_embedded_df['index'].astype(int)\n",
    "res50_pca_embedded_df_plot = res50_pca_embedded_df.loc[range(5000),:]\n",
    "res50_pca_embedded_df_plot.columns = ['Label','PCA Dim1', 'PCA Dim2']\n",
    "plt.figure(figsize=(10,10),dpi=120)\n",
    "ax = sns.scatterplot(x='PCA Dim1', y='PCA Dim2',hue='Label',data=res50_pca_embedded_df_plot,\n",
    "                     palette='Set1',alpha=0.6,s=20,legend='full') # tab10  Set1  husl \n",
    "legend = plt.legend(bbox_to_anchor=(1, 0.6))\n",
    "plt.show()"
   ]
  },
  {
   "cell_type": "markdown",
   "metadata": {},
   "source": [
    "### TSNE of ResNet50"
   ]
  },
  {
   "cell_type": "code",
   "execution_count": null,
   "metadata": {},
   "outputs": [],
   "source": [
    "start = time.time()\n",
    "\n",
    "res50_tsne_embedded = TSNE(n_components=2).fit_transform(res50_feature)\n",
    "\n",
    "end = time.time()\n",
    "end - start"
   ]
  },
  {
   "cell_type": "code",
   "execution_count": null,
   "metadata": {
    "scrolled": true
   },
   "outputs": [],
   "source": [
    "res50_tsne_embedded_df = pd.DataFrame(res50_tsne_embedded,index=res50_label)\n",
    "res50_tsne_embedded_df = res50_tsne_embedded_df.reset_index()\n",
    "res50_tsne_embedded_df['index'] = res50_tsne_embedded_df['index'].astype(int)\n",
    "res50_tsne_embedded_df_plot = res50_tsne_embedded_df.loc[range(5000),:]\n",
    "res50_tsne_embedded_df_plot.columns = ['Label','tSNE Dim1', 'tSNE Dim2']\n",
    "plt.figure(figsize=(10,10),dpi=120)\n",
    "ax = sns.scatterplot(x='tSNE Dim1', y='tSNE Dim2',hue='Label',data=res50_tsne_embedded_df_plot,\n",
    "                     palette='tab10',alpha=0.6,s=20,legend='full')\n",
    "legend = plt.legend(bbox_to_anchor=(1.001, 0.7),facecolor='white',edgecolor='white')\n",
    "plt.show()"
   ]
  },
  {
   "cell_type": "code",
   "execution_count": null,
   "metadata": {},
   "outputs": [],
   "source": []
  },
  {
   "cell_type": "markdown",
   "metadata": {},
   "source": [
    "### Classifications based on features extracted by resnet50"
   ]
  },
  {
   "cell_type": "code",
   "execution_count": null,
   "metadata": {},
   "outputs": [],
   "source": [
    "from sklearn.model_selection import cross_validate"
   ]
  },
  {
   "cell_type": "code",
   "execution_count": null,
   "metadata": {},
   "outputs": [],
   "source": [
    "from sklearn.discriminant_analysis import LinearDiscriminantAnalysis\n",
    "\n",
    "start = time.time()\n",
    "\n",
    "lda = LinearDiscriminantAnalysis()\n",
    "\n",
    "lda_results = cross_validate(lda, res50_feature[:5000], res50_label[:5000], cv=3, scoring='accuracy')\n",
    "lda_results = lda_results['test_score']\n",
    "\n",
    "end = time.time()\n",
    "end - start, lda_results"
   ]
  },
  {
   "cell_type": "code",
   "execution_count": null,
   "metadata": {},
   "outputs": [],
   "source": [
    "from sklearn.linear_model import LogisticRegression\n",
    "\n",
    "start = time.time()\n",
    "\n",
    "logistic_regression = LogisticRegression(random_state=0, solver='lbfgs', multi_class='multinomial')\n",
    "\n",
    "logistic_regression_results = cross_validate(logistic_regression, res50_feature[:5000], res50_label[:5000], cv=3, scoring='accuracy')\n",
    "logistic_regression_results = logistic_regression_results['test_score']\n",
    "\n",
    "end = time.time()\n",
    "end - start, logistic_regression_results"
   ]
  },
  {
   "cell_type": "code",
   "execution_count": null,
   "metadata": {},
   "outputs": [],
   "source": [
    "from sklearn import svm\n",
    "\n",
    "start = time.time()\n",
    "\n",
    "linear_svc = svm.LinearSVC()\n",
    "\n",
    "svm_results = cross_validate(linear_svc, res50_feature[:5000], res50_label[:5000], cv=3, scoring='accuracy')\n",
    "svm_results = svm_results['test_score']\n",
    "\n",
    "end = time.time()\n",
    "end - start, svm_results"
   ]
  },
  {
   "cell_type": "code",
   "execution_count": null,
   "metadata": {},
   "outputs": [],
   "source": [
    "from sklearn.ensemble import RandomForestClassifier\n",
    "\n",
    "start = time.time()\n",
    "\n",
    "random_forest = RandomForestClassifier(n_estimators=10, max_depth=None, min_samples_split=2, random_state=0)\n",
    "\n",
    "random_forest_results = cross_validate(random_forest, res50_feature[:5000], res50_label[:5000], cv=3, scoring='accuracy')\n",
    "random_forest_results = random_forest_results['test_score']\n",
    "\n",
    "end = time.time()\n",
    "end - start, random_forest_results"
   ]
  },
  {
   "cell_type": "code",
   "execution_count": null,
   "metadata": {},
   "outputs": [],
   "source": [
    "lda_results,logistic_regression_results,svm_results,random_forest_results"
   ]
  },
  {
   "cell_type": "code",
   "execution_count": null,
   "metadata": {},
   "outputs": [],
   "source": [
    "lda_results.mean(),logistic_regression_results.mean(),svm_results.mean(),random_forest_results.mean()"
   ]
  },
  {
   "cell_type": "code",
   "execution_count": null,
   "metadata": {},
   "outputs": [],
   "source": [
    "lda_results.std(),logistic_regression_results.std(),svm_results.std(),random_forest_results.std()"
   ]
  },
  {
   "cell_type": "code",
   "execution_count": null,
   "metadata": {},
   "outputs": [],
   "source": []
  }
 ],
 "metadata": {
  "kernelspec": {
   "display_name": "Python 3",
   "language": "python",
   "name": "python3"
  },
  "language_info": {
   "codemirror_mode": {
    "name": "ipython",
    "version": 3
   },
   "file_extension": ".py",
   "mimetype": "text/x-python",
   "name": "python",
   "nbconvert_exporter": "python",
   "pygments_lexer": "ipython3",
   "version": "3.7.6"
  }
 },
 "nbformat": 4,
 "nbformat_minor": 4
}
